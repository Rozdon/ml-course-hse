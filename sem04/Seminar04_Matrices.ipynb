{
 "cells": [
  {
   "cell_type": "markdown",
   "metadata": {},
   "source": [
    "# Семинар 4: Работа с векторами и матрицами"
   ]
  },
  {
   "cell_type": "markdown",
   "metadata": {},
   "source": [
    "## Организационное\n",
    "\n",
    "1. Перенос пар 16 февраля\n",
    "2. Лабораторная работа 1\n",
    "  - Вопросы — в конце семинара\n",
    "  - Дедлайн: утро следующего Вторника (9 февраля)\n",
    "3. Заполнить опросник (после семинара)\n",
    "  - [Ссылка на опросник](http://goo.gl/forms/P10JTf9cTe)\n",
    "  - Оценка вовлеченности\n",
    "  - Улучшение лекций и семинаров\n",
    "  - Можно заполнять анонимно"
   ]
  },
  {
   "cell_type": "markdown",
   "metadata": {},
   "source": [
    "## Типизированные массивы NumPy\n",
    "\n",
    "- Типы числовых данных (какие бывают числа?)\n",
    "- Векторные операции\n",
    "- Арифметические операции\n",
    "- Аггрерации по размерностям\n",
    "- Индексирование, подматрицы\n",
    "- Библиотека функций `numpy`"
   ]
  },
  {
   "cell_type": "code",
   "execution_count": null,
   "metadata": {
    "collapsed": true
   },
   "outputs": [],
   "source": [
    "import numpy as np\n",
    "import matplotlib.pyplot as plt"
   ]
  },
  {
   "cell_type": "code",
   "execution_count": null,
   "metadata": {
    "collapsed": true
   },
   "outputs": [],
   "source": [
    "%matplotlib inline"
   ]
  },
  {
   "cell_type": "markdown",
   "metadata": {},
   "source": [
    "## Пример: изображения рукописных цифр\n",
    "\n",
    "- Загрузите набор цифр `datasets.load_digits()`\n",
    "- При помощи `plt.imshow` посмотрите на изображения `digits.images`, конкатенируйте матрицы при помощи `np.hstack` и `np.vstack`\n",
    "- Выберите две различные цифры и посчитайте их линейную комбинацию\n",
    "- Преобразуйте все цифры в вектора при помощи `np.reshape`\n",
    "- Выберите случайную цифру. `np.random.randint`\n",
    "- Найдите ближайшую цифру с точки зрения Евклидового расстояния: $d(x_1, x_2) = \\sqrt{\\sum_{j} (x_{1j} - x_{2j})^2}$\n",
    "- Проведите преобразования признаков:\n",
    "  - Масштабирование 1: каждый признак привести к нулевому среднему (`np.mean`) и единичному стандартному отклонению (`np.std`)\n",
    "  - Масштабирование 2: каждый признак перевести в отрезок от 0 до 1, найдя для каждого признака минимальное (`np.min`) и максимальное (`np.max`) значение\n",
    "  - Нормализация: привести каждый вектор признаков к единичной норме, разделив каждый вектор на его норму"
   ]
  },
  {
   "cell_type": "markdown",
   "metadata": {},
   "source": [
    "## Обучение с учителем (классификация)\n",
    "\n",
    "- Выберите первые 100 цифр в качестве обучающей выборки, метки записаны в digits.target\n",
    "- Выберите цифру для классификации: случайную не из обучающей выборки\n",
    "- Найдите ближайшую цифру из обучающей выборки, ее метка и будет ответом классификатора\n",
    "- Посчитайте долю ошибок классификации на 1000 цифрах не из обучающей выборки"
   ]
  },
  {
   "cell_type": "code",
   "execution_count": null,
   "metadata": {
    "collapsed": true
   },
   "outputs": [],
   "source": [
    "def find_nearest_neighbor(X, x_sel):\n",
    "    pass"
   ]
  },
  {
   "cell_type": "code",
   "execution_count": null,
   "metadata": {
    "collapsed": true
   },
   "outputs": [],
   "source": [
    "class NearestNeighborClassifier(object):\n",
    "    \n",
    "    def fit(self, X, y):\n",
    "        pass\n",
    "    \n",
    "    def predict(self, X):\n",
    "        pass"
   ]
  },
  {
   "cell_type": "markdown",
   "metadata": {},
   "source": [
    "## Обучение без учителя (выделение кластеров)\n",
    "\n",
    "- Постройте график увеличения Евклидового расстояния\n",
    "- Выберите порог\n",
    "- Выделите \"кластер цифр\" похожих на данную, для этого \n",
    "- Реализуйте алгоритм кластеризации на основе порога расстояния, виделите 10 кластеров"
   ]
  },
  {
   "cell_type": "code",
   "execution_count": null,
   "metadata": {
    "collapsed": true
   },
   "outputs": [],
   "source": [
    "def find_next_cluster(X):\n",
    "    pass\n",
    "    # возвращает индексы элементов выборки X, относящиеся к кластеру"
   ]
  },
  {
   "cell_type": "code",
   "execution_count": null,
   "metadata": {
    "collapsed": true
   },
   "outputs": [],
   "source": [
    "def find_all_clusters(X):\n",
    "    return y"
   ]
  }
 ],
 "metadata": {
  "kernelspec": {
   "display_name": "Python 2",
   "language": "python",
   "name": "python2"
  },
  "language_info": {
   "codemirror_mode": {
    "name": "ipython",
    "version": 2
   },
   "file_extension": ".py",
   "mimetype": "text/x-python",
   "name": "python",
   "nbconvert_exporter": "python",
   "pygments_lexer": "ipython2",
   "version": "2.7.8"
  }
 },
 "nbformat": 4,
 "nbformat_minor": 0
}
