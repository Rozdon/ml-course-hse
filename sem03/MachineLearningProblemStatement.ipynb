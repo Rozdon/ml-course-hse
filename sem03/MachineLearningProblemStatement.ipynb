{
 "cells": [
  {
   "cell_type": "markdown",
   "metadata": {},
   "source": [
    "# Семинар 3: Постановка задачи Обучения по прецедентам"
   ]
  },
  {
   "cell_type": "markdown",
   "metadata": {},
   "source": [
    "## Организационное\n",
    "\n",
    "1. Страница курса \n",
    "  - Ссылки на материалы по предыдущим семинарам\n",
    "    - Минимальные сведения про Python\n",
    "    - Бибилиотека работы с данными Pandas\n",
    "    - Работа с числовыми массивами, векторами и матрицами: NumPy\n",
    "  - Резюме к семинарам\n",
    "2. Виртуальная машина для работы на семинарах\n",
    "  - [`shad.people.yandex.net`](https://shad.people.yandex.net/tree)\n",
    "  - Предупреждение браузера о \"незащищенном соединении\" — игнорировать\n",
    "  - Сервер все еще держится на честном слове, убедительная просьба:\n",
    "    - Выключать свои интерактивные тетрадки по окончанию работы (освобождать оперативную память на сервере)\n",
    "    - Загружать тетрадки и всю важную для вас информацию с сервера\n",
    "    - Не хулиганить\n",
    "2. Лабораторная работа 1: Работа с данными в Python\n",
    "  - Дедлайн: 09.02.2016 09:00 MSK\n",
    "  - Ответы на вопросы по заявкам слушателей: \n",
    "    - Соорганизоваться, собрать вопросы в общий список\n",
    "    - На следующем семинаре разберем то что непонятно"
   ]
  },
  {
   "cell_type": "markdown",
   "metadata": {},
   "source": [
    "## Понятия из лекции\n",
    "\n",
    "- Обучение с учителем (Supervised Learning) — одна из задач Машинного обучения [[ML.ru]](http://www.machinelearning.ru/wiki/index.php?title=Обучение_с_учителем), [[Wiki]](https://en.wikipedia.org/wiki/Supervised_learning)\n",
    "\n",
    "Для того чтобы поставить задачу обучения с учителем, необходимо определиться со следующим:\n",
    "1. Объект\n",
    "2. Целевая переменная\n",
    "  - классификация\n",
    "  - регрессия\n",
    "3. Обучающая выборка\n",
    "4. Функционал качества предсказания\n",
    "5. Признаки объекта"
   ]
  },
  {
   "cell_type": "markdown",
   "metadata": {},
   "source": [
    "## Пример 1. Отклик клиента на предложение"
   ]
  },
  {
   "cell_type": "markdown",
   "metadata": {},
   "source": [
    "## Пример 2. Диагностика заболевания"
   ]
  },
  {
   "cell_type": "markdown",
   "metadata": {},
   "source": [
    "## Пример 3. Прогноз з/п на рынке труда\n",
    "\n",
    "##### Ситуация\n",
    "  - Требуется сделать инструмент для аудитории веб-сервиса поиска работы (например [HH.ru](http://hh.ru/))\n",
    "    - Работодатели по описанию вакансии получают оценку желаемой з/п на рынке труда\n",
    "    - Соискатели по резюме получают оценку предлагаемой з/п\n",
    "  - Имеются данные: журнал принятых офферов (дата, описание вакансии, резюме, з/п)\n",
    "  \n",
    "\n",
    "#####  Задачи машинного обучения\n",
    "  1. Прогноз нижней границы з/п по описанию вакансии\n",
    "    - Объекты: принятые офферы\n",
    "    - Целевая переменная: з/п\n",
    "    - Признаки: текст описания вакансии, категории, дата (год, месяц в году), город, ...\n",
    "    - Обучающая выборка: записи из журнала офферов\n",
    "    - Функционал качества: квантильная функция потерь: \n",
    "      - $L(y, \\hat{y}) = \\tau (y - \\hat{y}) I[y \\geq \\hat{y}] + (1 - \\tau) (\\hat{y} - y) I[y \\leq \\hat{y}]$\n",
    "      - $\\tau = 0.1 \\, (10\\%)$\n",
    "      - интерпретация: для объектов с одинаковыми признаками (одинаковыми вакансиями), минимум $\\hat{y}$ достигается в точке, ниже которой — 10% вакансий, выше — 90% вакансий\n",
    "  2. Прогноз верхней границы з/п\n",
    "    - Все то же самое\n",
    "    - Функционал качества:\n",
    "      - $\\tau = 0.9 \\, (90\\%)$\n",
    "  3. Прогноз нижней и верхней границ з/п соискателя по резюме\n",
    "     \n",
    "##### Похожие задачи\n",
    "  - Прогноз стоимости недвижимости на [ЦИАН](http://www.cian.ru/)\n",
    "  - Прогноз стоимости авиабилетов [AviaSales](http://www.aviasales.ru/)"
   ]
  },
  {
   "cell_type": "markdown",
   "metadata": {},
   "source": [
    "## Самостоятельная работа\n",
    "\n",
    "1. Придумайте ситуацию в которой методы обучения с учителем могут принести пользу\n",
    "2. Сформулируйте одну или несколько задач обучения с учителем\n",
    "3. Запишите в тетрадку ситуацию, задачу и ее сведение к задаче обучения с учителем \n",
    "4. Демонстрация у доски\n",
    "\n",
    "Крайне желательно взять задачу из той области, на которой вы специализируетесь в университете: логистика, экономика, финансы, управление и т.д. Еще лучше, если задача, которую вы сформулируете, будет непосредственно связана с вашей курсовой/дипломной работой. "
   ]
  },
  {
   "cell_type": "markdown",
   "metadata": {},
   "source": [
    "## Демонстрация: машинное обучение как черный ящик"
   ]
  },
  {
   "cell_type": "code",
   "execution_count": 1,
   "metadata": {
    "collapsed": false
   },
   "outputs": [
    {
     "name": "stdout",
     "output_type": "stream",
     "text": [
      "Populating the interactive namespace from numpy and matplotlib\n"
     ]
    }
   ],
   "source": [
    "%pylab inline"
   ]
  },
  {
   "cell_type": "markdown",
   "metadata": {},
   "source": [
    "##### Задача\n",
    "\n",
    "- Научиться предсказывать качество вина по физическим/химическим характеристикам\n",
    "- Имеются данные: пробы вина с экспертными оценками в шкале от 1 до 10\n",
    "- Набор данных открытый: [UCI Wine Quality](https://archive.ics.uci.edu/ml/datasets/Wine+Quality)"
   ]
  },
  {
   "cell_type": "markdown",
   "metadata": {},
   "source": [
    "##### Прочитаем набор данных"
   ]
  },
  {
   "cell_type": "code",
   "execution_count": 2,
   "metadata": {
    "collapsed": true
   },
   "outputs": [],
   "source": [
    "import pandas\n",
    "\n",
    "dataset_url = 'https://archive.ics.uci.edu/ml/machine-learning-databases/wine-quality/winequality-red.csv'\n",
    "data_wine_quality = pandas.read_csv(dataset_url, sep=';')"
   ]
  },
  {
   "cell_type": "code",
   "execution_count": 3,
   "metadata": {
    "collapsed": false
   },
   "outputs": [
    {
     "data": {
      "text/html": [
       "<div>\n",
       "<table border=\"1\" class=\"dataframe\">\n",
       "  <thead>\n",
       "    <tr style=\"text-align: right;\">\n",
       "      <th></th>\n",
       "      <th>fixed acidity</th>\n",
       "      <th>volatile acidity</th>\n",
       "      <th>citric acid</th>\n",
       "      <th>residual sugar</th>\n",
       "      <th>chlorides</th>\n",
       "      <th>free sulfur dioxide</th>\n",
       "      <th>total sulfur dioxide</th>\n",
       "      <th>density</th>\n",
       "      <th>pH</th>\n",
       "      <th>sulphates</th>\n",
       "      <th>alcohol</th>\n",
       "      <th>quality</th>\n",
       "    </tr>\n",
       "  </thead>\n",
       "  <tbody>\n",
       "    <tr>\n",
       "      <th>0</th>\n",
       "      <td>7.4</td>\n",
       "      <td>0.70</td>\n",
       "      <td>0.00</td>\n",
       "      <td>1.9</td>\n",
       "      <td>0.076</td>\n",
       "      <td>11</td>\n",
       "      <td>34</td>\n",
       "      <td>0.9978</td>\n",
       "      <td>3.51</td>\n",
       "      <td>0.56</td>\n",
       "      <td>9.4</td>\n",
       "      <td>5</td>\n",
       "    </tr>\n",
       "    <tr>\n",
       "      <th>1</th>\n",
       "      <td>7.8</td>\n",
       "      <td>0.88</td>\n",
       "      <td>0.00</td>\n",
       "      <td>2.6</td>\n",
       "      <td>0.098</td>\n",
       "      <td>25</td>\n",
       "      <td>67</td>\n",
       "      <td>0.9968</td>\n",
       "      <td>3.20</td>\n",
       "      <td>0.68</td>\n",
       "      <td>9.8</td>\n",
       "      <td>5</td>\n",
       "    </tr>\n",
       "    <tr>\n",
       "      <th>2</th>\n",
       "      <td>7.8</td>\n",
       "      <td>0.76</td>\n",
       "      <td>0.04</td>\n",
       "      <td>2.3</td>\n",
       "      <td>0.092</td>\n",
       "      <td>15</td>\n",
       "      <td>54</td>\n",
       "      <td>0.9970</td>\n",
       "      <td>3.26</td>\n",
       "      <td>0.65</td>\n",
       "      <td>9.8</td>\n",
       "      <td>5</td>\n",
       "    </tr>\n",
       "    <tr>\n",
       "      <th>3</th>\n",
       "      <td>11.2</td>\n",
       "      <td>0.28</td>\n",
       "      <td>0.56</td>\n",
       "      <td>1.9</td>\n",
       "      <td>0.075</td>\n",
       "      <td>17</td>\n",
       "      <td>60</td>\n",
       "      <td>0.9980</td>\n",
       "      <td>3.16</td>\n",
       "      <td>0.58</td>\n",
       "      <td>9.8</td>\n",
       "      <td>6</td>\n",
       "    </tr>\n",
       "    <tr>\n",
       "      <th>4</th>\n",
       "      <td>7.4</td>\n",
       "      <td>0.70</td>\n",
       "      <td>0.00</td>\n",
       "      <td>1.9</td>\n",
       "      <td>0.076</td>\n",
       "      <td>11</td>\n",
       "      <td>34</td>\n",
       "      <td>0.9978</td>\n",
       "      <td>3.51</td>\n",
       "      <td>0.56</td>\n",
       "      <td>9.4</td>\n",
       "      <td>5</td>\n",
       "    </tr>\n",
       "  </tbody>\n",
       "</table>\n",
       "</div>"
      ],
      "text/plain": [
       "   fixed acidity  volatile acidity  citric acid  residual sugar  chlorides  \\\n",
       "0            7.4              0.70         0.00             1.9      0.076   \n",
       "1            7.8              0.88         0.00             2.6      0.098   \n",
       "2            7.8              0.76         0.04             2.3      0.092   \n",
       "3           11.2              0.28         0.56             1.9      0.075   \n",
       "4            7.4              0.70         0.00             1.9      0.076   \n",
       "\n",
       "   free sulfur dioxide  total sulfur dioxide  density    pH  sulphates  \\\n",
       "0                   11                    34   0.9978  3.51       0.56   \n",
       "1                   25                    67   0.9968  3.20       0.68   \n",
       "2                   15                    54   0.9970  3.26       0.65   \n",
       "3                   17                    60   0.9980  3.16       0.58   \n",
       "4                   11                    34   0.9978  3.51       0.56   \n",
       "\n",
       "   alcohol  quality  \n",
       "0      9.4        5  \n",
       "1      9.8        5  \n",
       "2      9.8        5  \n",
       "3      9.8        6  \n",
       "4      9.4        5  "
      ]
     },
     "execution_count": 3,
     "metadata": {},
     "output_type": "execute_result"
    }
   ],
   "source": [
    "data_wine_quality.head()"
   ]
  },
  {
   "cell_type": "markdown",
   "metadata": {},
   "source": [
    "- Объект — проба вина, строчка в таблице\n",
    "- Последняя колонка `quality` — целевая переменная\n",
    "- Остальные колонки — значения признаков объектов"
   ]
  },
  {
   "cell_type": "markdown",
   "metadata": {},
   "source": [
    "##### Частота значений целевой переменной"
   ]
  },
  {
   "cell_type": "code",
   "execution_count": 4,
   "metadata": {
    "collapsed": false
   },
   "outputs": [
    {
     "data": {
      "text/plain": [
       "<matplotlib.axes._subplots.AxesSubplot at 0x10a53f890>"
      ]
     },
     "execution_count": 4,
     "metadata": {},
     "output_type": "execute_result"
    },
    {
     "data": {
      "image/png": "[encoded data removed]",
      "text/plain": [
       "<matplotlib.figure.Figure at 0x1067e6b50>"
      ]
     },
     "metadata": {},
     "output_type": "display_data"
    }
   ],
   "source": [
    "data_wine_quality['quality'].value_counts().sort_index().plot(kind='bar')"
   ]
  },
  {
   "cell_type": "markdown",
   "metadata": {},
   "source": [
    "##### Матрица объект-признак"
   ]
  },
  {
   "cell_type": "code",
   "execution_count": 5,
   "metadata": {
    "collapsed": true
   },
   "outputs": [],
   "source": [
    "X = data_wine_quality.ix[:, :11].values"
   ]
  },
  {
   "cell_type": "markdown",
   "metadata": {},
   "source": [
    "##### Вектор правильных ответов"
   ]
  },
  {
   "cell_type": "code",
   "execution_count": 6,
   "metadata": {
    "collapsed": false
   },
   "outputs": [],
   "source": [
    "y = data_wine_quality.ix[:, 'quality'].values"
   ]
  },
  {
   "cell_type": "markdown",
   "metadata": {},
   "source": [
    "##### Обучаем (*to fit*) прогнозирующую модель"
   ]
  },
  {
   "cell_type": "code",
   "execution_count": 7,
   "metadata": {
    "collapsed": false
   },
   "outputs": [
    {
     "data": {
      "text/plain": [
       "RandomForestRegressor(bootstrap=True, criterion='mse', max_depth=None,\n",
       "           max_features='auto', max_leaf_nodes=None, min_samples_leaf=1,\n",
       "           min_samples_split=2, min_weight_fraction_leaf=0.0,\n",
       "           n_estimators=10, n_jobs=1, oob_score=False, random_state=None,\n",
       "           verbose=0, warm_start=False)"
      ]
     },
     "execution_count": 7,
     "metadata": {},
     "output_type": "execute_result"
    }
   ],
   "source": [
    "from sklearn.ensemble import RandomForestRegressor\n",
    "\n",
    "wine_quality_predictor = RandomForestRegressor()\n",
    "wine_quality_predictor.fit(X, y)"
   ]
  },
  {
   "cell_type": "markdown",
   "metadata": {},
   "source": [
    "##### Теперь можем предсказывать качество вина, имея только значения признаков\n",
    "\n",
    "Возьмем, например, первую пробу и попросим у модели прогноз"
   ]
  },
  {
   "cell_type": "code",
   "execution_count": 8,
   "metadata": {
    "collapsed": false
   },
   "outputs": [
    {
     "data": {
      "text/plain": [
       "array([  7.8   ,   0.88  ,   0.    ,   2.6   ,   0.098 ,  25.    ,\n",
       "        67.    ,   0.9968,   3.2   ,   0.68  ,   9.8   ])"
      ]
     },
     "execution_count": 8,
     "metadata": {},
     "output_type": "execute_result"
    }
   ],
   "source": [
    "data_wine_quality.ix[1, :-1].values"
   ]
  },
  {
   "cell_type": "code",
   "execution_count": 9,
   "metadata": {
    "collapsed": false
   },
   "outputs": [
    {
     "data": {
      "text/plain": [
       "array([ 5.])"
      ]
     },
     "execution_count": 9,
     "metadata": {},
     "output_type": "execute_result"
    }
   ],
   "source": [
    "wine_quality_predictor.predict([\n",
    "        [  7.8,   0.88,   0.,   2.6,   0.098,  25.,  67.,   0.9968,  3.2,   0.68,   9.8   ],\n",
    "    ])"
   ]
  },
  {
   "cell_type": "markdown",
   "metadata": {},
   "source": [
    "##### Добавим алкоголя, посмотрим как изменится прогноз экспертной оценки"
   ]
  },
  {
   "cell_type": "code",
   "execution_count": 10,
   "metadata": {
    "collapsed": false
   },
   "outputs": [
    {
     "data": {
      "text/plain": [
       "array([ 6.2])"
      ]
     },
     "execution_count": 10,
     "metadata": {},
     "output_type": "execute_result"
    }
   ],
   "source": [
    "wine_quality_predictor.predict([\n",
    "        [  7.8,   0.88,   0.,   2.6,   0.098,  25.,  67.,   0.9968,  3.2,   0.68,   20   ],\n",
    "    ])"
   ]
  },
  {
   "cell_type": "markdown",
   "metadata": {},
   "source": [
    "## На следующем семинаре\n",
    "\n",
    "- (!) Вопросы по Лабораторной работе 1\n",
    "- Первое семейство алгоритмов обучения с учителем\n",
    "- Оценка качества работы алгоритма обучения с учителем, обобщающая способность"
   ]
  }
 ],
 "metadata": {
  "kernelspec": {
   "display_name": "Python 2",
   "language": "python",
   "name": "python2"
  },
  "language_info": {
   "codemirror_mode": {
    "name": "ipython",
    "version": 2
   },
   "file_extension": ".py",
   "mimetype": "text/x-python",
   "name": "python",
   "nbconvert_exporter": "python",
   "pygments_lexer": "ipython2",
   "version": "2.7.8"
  }
 },
 "nbformat": 4,
 "nbformat_minor": 0
}
